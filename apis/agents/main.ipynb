{
 "cells": [
  {
   "cell_type": "code",
   "execution_count": 1,
   "id": "f091dd8b",
   "metadata": {},
   "outputs": [],
   "source": [
    "from openai import OpenAI\n",
    "from pydantic import BaseModel\n",
    "import os\n",
    "from dotenv import load_dotenv\n",
    "# Import thư viện, đối với GPT (ChatGPT) hay Claude (mô hình chuyên dùng trong CLINE),... cũng có các thư viện tương tự.\n",
    "from langchain_google_genai import ChatGoogleGenerativeAI"
   ]
  },
  {
   "cell_type": "code",
   "execution_count": 2,
   "id": "e04271cf",
   "metadata": {},
   "outputs": [
    {
     "name": "stderr",
     "output_type": "stream",
     "text": [
      "d:\\MISA\\AI\\src\\HiveSpace.ChatboxAI\\apis\\agents\\tools\\web_search.py:18: RuntimeWarning: This package (`duckduckgo_search`) has been renamed to `ddgs`! Use `pip install ddgs` instead.\n",
      "  results = DDGS().text(input, max_results=5, region=\"vn-vi\")\n"
     ]
    },
    {
     "name": "stdout",
     "output_type": "stream",
     "text": [
      "[{'title': 'MISA nhận nhiệm vụ chiến lược quốc gia làm chủ công nghệ AI', 'href': 'https://www.misa.vn/150413/misa-nhan-nhiem-vu-chien-luoc-quoc-gia-lam-chu-cong-nghe-ai/', 'body': 'Jan 15, 2025 · Đây không chỉ là một nhiệm vụ chiến lược tiên phong mà còn là sứ mệnh lịch sử mang dấu ấn trí tuệ Việt, kiến tạo công nghệ AI …'}, {'title': 'MISA nhận nhiệm vụ làm chủ công nghệ AI - VnExpress', 'href': 'https://vnexpress.net/misa-nhan-nhiem-vu-lam-chu-cong-nghe-ai-4840523.html', 'body': 'Jan 19, 2025 · \"Trong 5 năm tới, chúng tôi sẽ đầu tư 2.500 tỷ đồng để xây dựng mô hình ngôn ngữ lớn LLM dành cho AI \"Make in Vietnam\". Mô …'}, {'title': \"Ứng dụng AI trong chuyển đổi số: MISA và sứ mệnh quốc gia 'Make in …\", 'href': 'https://nguoiquansat.vn/ung-dung-ai-trong-chuyen-doi-so-misa-va-su-menh-quoc-gia-make-in-vietnam-225919.html', 'body': 'MISA vừa được Tổng Bí thư Tô Lâm giao trọng trách quốc gia làm chủ công nghệ AI, với cam kết đầu tư 2.500 tỷ đồng trong 5 năm tới để xây …'}, {'title': '#misa #misajsc #makeinvietnam #makeinvietnam2024… | MISA JSC', 'href': 'https://www.linkedin.com/posts/misa-jsc_misa-misajsc-makeinvietnam-activity-7286229521308037120-9uAd', 'body': 'Theo đó, MISA cam kết đầu tư 2.500 tỷ đồng trong 5 năm tới để xây dựng Mô hình ngôn ngữ lớn (LLM) dành cho AI \"Make in …'}, {'title': 'MISA JSC - MISA NHẬN NHIỆM VỤ CHIẾN LƯỢC ... - Facebook', 'href': 'https://www.facebook.com/MISAJSC/posts/1078494814301920/', 'body': 'MISA là một trong số ít DN Công nghệ lớn của VN được giao nhiệm vụ quốc gia về làm chủ công nghệ lõi AI - với cam kết đầu tư 2.500 tỷ trong …'}]\n"
     ]
    }
   ],
   "source": [
    "from tools.web_search import web_search \n",
    "from tools.product_tool import product_search"
   ]
  },
  {
   "cell_type": "code",
   "execution_count": 3,
   "id": "9f22b94d",
   "metadata": {},
   "outputs": [],
   "source": [
    "# Load biến từ .env vào môi trường\n",
    "load_dotenv()\n",
    "\n",
    "# Lấy API key\n",
    "api_key = os.getenv(\"api_key\")"
   ]
  },
  {
   "cell_type": "code",
   "execution_count": 4,
   "id": "2fe74d74",
   "metadata": {},
   "outputs": [],
   "source": [
    "# Khởi tạo một Basic Agent\n",
    "basic_agent = ChatGoogleGenerativeAI(\n",
    "    model= \"gemini-2.0-flash\",    # Model ngôn ngữ lớn\"\n",
    "    temperature=1.0,              # Mức độ sáng tạo của model, từ 0 tới 1.\n",
    "    max_tokens=None,              # Giới hạn token của Input, Output. Thường nên để tối đa 32K.\n",
    "    timeout=None,\n",
    "    max_retries=2,\n",
    "    google_api_key=api_key        #API key đã lấy ở trên\n",
    ")"
   ]
  },
  {
   "cell_type": "code",
   "execution_count": 5,
   "id": "fee0733c",
   "metadata": {},
   "outputs": [],
   "source": [
    "# Create LLM class\n",
    "llm = ChatGoogleGenerativeAI(\n",
    "    model= \"gemini-2.0-flash\", # replace with \"gemini-2.0-flash\"\n",
    "    temperature=1.0,\n",
    "    max_tokens=None,\n",
    "    timeout=None,\n",
    "    max_retries=2,\n",
    "    google_api_key=api_key\n",
    ")\n",
    "\n",
    "# Bind tools to the model\n",
    "react_agent = llm.bind_tools([web_search, product_search])"
   ]
  },
  {
   "cell_type": "code",
   "execution_count": 6,
   "id": "26d38f29",
   "metadata": {},
   "outputs": [],
   "source": [
    "\"\"\"\n",
    "Các bước ghép nối luồng hoạt động của AI Agent\n",
    "\"\"\"\n",
    "\n",
    "from typing import Annotated\n",
    "from typing_extensions import TypedDict\n",
    "from langgraph.graph import StateGraph, START, END\n",
    "from langgraph.graph.message import add_messages\n",
    "\n",
    "\n",
    "class State(TypedDict):\n",
    "    # Messages have the type \"list\". The `add_messages` function\n",
    "    # in the annotation defines how this state key should be updated\n",
    "    # (in this case, it appends messages to the list, rather than overwriting them)\n",
    "    messages: Annotated[list, add_messages]\n",
    "\n",
    "\n",
    "graph_builder = StateGraph(State)"
   ]
  },
  {
   "cell_type": "code",
   "execution_count": 7,
   "id": "742dd8aa",
   "metadata": {},
   "outputs": [],
   "source": [
    "import json\n",
    "from langchain_core.messages import ToolMessage, SystemMessage\n",
    "from langchain_core.runnables import RunnableConfig\n",
    "\n",
    "tools = [web_search, product_search]\n",
    "\n",
    "tools_by_name = {tool.name: tool for tool in tools}\n",
    "\n",
    "\n",
    "# Define our tool node\n",
    "def call_tool(state: State):\n",
    "    outputs = []\n",
    "    # Iterate over the tool calls in the last message\n",
    "    for tool_call in state[\"messages\"][-1].tool_calls:\n",
    "        # Get the tool by name\n",
    "        tool_result = tools_by_name[tool_call[\"name\"]].invoke(tool_call[\"args\"])\n",
    "        outputs.append(\n",
    "            ToolMessage(\n",
    "                content=tool_result,\n",
    "                name=tool_call[\"name\"],\n",
    "                tool_call_id=tool_call[\"id\"],\n",
    "            )\n",
    "        )\n",
    "    return {\"messages\": outputs}\n",
    "\n",
    "def call_model(\n",
    "    state: State,\n",
    "    config: RunnableConfig,\n",
    "):\n",
    "    # Invoke the model with the system prompt and the messages\n",
    "    response = react_agent.invoke(state[\"messages\"], config)\n",
    "    # We return a list, because this will get added to the existing messages state using the add_messages reducer\n",
    "    return {\"messages\": [response]}\n",
    "\n",
    "\n",
    "# Define the conditional edge that determines whether to continue or not\n",
    "def should_continue(state: State):\n",
    "    messages = state[\"messages\"]\n",
    "    # If the last message is not a tool call, then we finish\n",
    "    if not messages[-1].tool_calls:\n",
    "        return \"end\"\n",
    "    # default to continue\n",
    "    return \"continue\""
   ]
  },
  {
   "cell_type": "code",
   "execution_count": 8,
   "id": "e668e610",
   "metadata": {},
   "outputs": [],
   "source": [
    "from langgraph.graph import StateGraph, END\n",
    "\n",
    "# Define a new graph with our state\n",
    "workflow = StateGraph(State)\n",
    "\n",
    "# 1. Add our nodes\n",
    "workflow.add_node(\"llm\", call_model)\n",
    "workflow.add_node(\"tools\",  call_tool)\n",
    "# 2. Set the entrypoint as `agent`, this is the first node called\n",
    "workflow.set_entry_point(\"llm\")\n",
    "# 3. Add a conditional edge after the `llm` node is called.\n",
    "workflow.add_conditional_edges(\n",
    "    # Edge is used after the `llm` node is called.\n",
    "    \"llm\",\n",
    "    # The function that will determine which node is called next.\n",
    "    should_continue,\n",
    "    # Mapping for where to go next, keys are strings from the function return, and the values are other nodes.\n",
    "    # END is a special node marking that the graph is finish.\n",
    "    {\n",
    "        # If `tools`, then we call the tool node.\n",
    "        \"continue\": \"tools\",\n",
    "        # Otherwise we finish.\n",
    "        \"end\": END,\n",
    "    },\n",
    ")\n",
    "# 4. Add a normal edge after `tools` is called, `llm` node is called next.\n",
    "workflow.add_edge(\"tools\", \"llm\")\n",
    "\n",
    "# Now we can compile and visualize our graph\n",
    "react_agent_graph = workflow.compile()"
   ]
  },
  {
   "cell_type": "code",
   "execution_count": 9,
   "id": "2c916bc7",
   "metadata": {},
   "outputs": [],
   "source": [
    "# Viết lại hàm gọi react_agent_graph\n",
    "def ask_react_agent(messages: list):\n",
    "    print(\"Human: \" + messages[-1][\"content\"])\n",
    "\n",
    "    for event in react_agent_graph.stream({\"messages\": messages}):\n",
    "        for key, value in event.items():\n",
    "            if key != \"llm\" or value[\"messages\"][-1].content == \"\":\n",
    "                continue\n",
    "            print(\"AI:\", value[\"messages\"][-1].content)"
   ]
  },
  {
   "cell_type": "code",
   "execution_count": 10,
   "id": "3fa723b6",
   "metadata": {},
   "outputs": [
    {
     "name": "stdout",
     "output_type": "stream",
     "text": [
      "Human: Lấy cho tôi danh sách sản phẩm\n",
      "AI: Dưới đây là danh sách sản phẩm hiện có:\n",
      "\n",
      "*   **Laptop Dell XPS 13:** Giá 1500, thuộc danh mục Điện tử, còn hàng.\n",
      "*   **iPhone 15 Pro:** Giá 1200, thuộc danh mục Điện tử, hết hàng.\n",
      "*   **Bàn phím cơ Keychron K2:** Giá 90, thuộc danh mục Phụ kiện, còn hàng.\n",
      "*   **Ghế công thái học Sihoo:** Giá 250, thuộc danh mục Nội thất, còn hàng.\n",
      "*   **Tai nghe Sony WH-1000XM5:** Giá 400, thuộc danh mục Âm thanh, hết hàng.\n"
     ]
    }
   ],
   "source": [
    "# Thử nghiệm\n",
    "ask_react_agent([{\n",
    "                \"role\": \"system\",\n",
    "                \"content\": \"Bạn là AVA, trợ lý số của công ty cổ phần MISA.\",\n",
    "            },\n",
    "             {\n",
    "                \"role\": \"system\",\n",
    "                \"content\": f'''Thông tin bổ sung:\n",
    "                            - Thời gian hiện tại: 08-2025''',\n",
    "            },\n",
    "            {\n",
    "                \"role\": \"user\",\n",
    "                \"content\": \"Lấy cho tôi danh sách sản phẩm\",\n",
    "            }])"
   ]
  }
 ],
 "metadata": {
  "kernelspec": {
   "display_name": "Python 3",
   "language": "python",
   "name": "python3"
  },
  "language_info": {
   "codemirror_mode": {
    "name": "ipython",
    "version": 3
   },
   "file_extension": ".py",
   "mimetype": "text/x-python",
   "name": "python",
   "nbconvert_exporter": "python",
   "pygments_lexer": "ipython3",
   "version": "3.9.6"
  }
 },
 "nbformat": 4,
 "nbformat_minor": 5
}
